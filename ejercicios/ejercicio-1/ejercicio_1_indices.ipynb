{
 "cells": [
  {
   "cell_type": "markdown",
   "id": "3e03f8ff",
   "metadata": {},
   "source": [
    "# Ejercicio 1 — Índices ENSO (ONI, SOI, Niño 3.4)\n",
    "\n",
    "**Objetivo:** Familiarizarse con los índices que describen el ENSO y analizar las correlaciones cruzadas entre ellos.\n",
    "\n",
    "**Contenido del notebook**\n",
    "- Cargar/descargar series ONI, SOI y TSM Niño 3.4.\n",
    "- Visualizar las series.\n",
    "- Calcular correlaciones y correlaciones cruzadas con significancia.\n",
    "- Interpretar resultados.\n",
    "\n",
    "> Este notebook está pensado para ejecutarse en Google Colab o en un entorno local con las librerías indicadas.\n"
   ]
  },
  {
   "cell_type": "code",
   "execution_count": null,
   "id": "3a3e1ff3",
   "metadata": {},
   "outputs": [],
   "source": [
    "# Librerías necesarias\n",
    "import numpy as np\n",
    "import pandas as pd\n",
    "import matplotlib.pyplot as plt\n",
    "from scipy import signal, stats\n",
    "import os\n",
    "\n",
    "# Opcional: instalar paquetes en Colab\n",
    "# !pip install xarray netCDF4 cartopy eofs\n"
   ]
  },
  {
   "cell_type": "code",
   "execution_count": null,
   "id": "7757c051",
   "metadata": {},
   "outputs": [],
   "source": [
    "# --- Opcional: descargar índices desde NOAA (requiere internet)\n",
    "# ONI and NINO3.4 SST anomalies (example URL - revisar en caso de cambios en la web)\n",
    "oni_url = \"https://www.ncei.noaa.gov/access/monitoring/enso/sst/ONI.csv\"\n",
    "soi_url = \"https://www.ncei.noaa.gov/access/monitoring/enso/soi/soi.csv\"\n",
    "# Ejemplo de cómo descargarlos (comentado para evitar errores si no hay internet)\n",
    "# oni = pd.read_csv(oni_url)\n",
    "# soi = pd.read_csv(soi_url)\n",
    "# En la práctica, adaptar la lectura al formato exacto proporcionado por NOAA.\n"
   ]
  },
  {
   "cell_type": "code",
   "execution_count": null,
   "id": "ed656884",
   "metadata": {},
   "outputs": [],
   "source": [
    "# Cargar dataset de ejemplo incluido en el repositorio\n",
    "csv_path = \"/mnt/data/TP_ENSO_UBA/datasets/ejemplo_ONI_SOI.csv\"\n",
    "df = pd.read_csv(csv_path, parse_dates=['date'])\n",
    "df.set_index('date', inplace=True)\n",
    "df.head()\n"
   ]
  },
  {
   "cell_type": "code",
   "execution_count": null,
   "id": "84eafb16",
   "metadata": {},
   "outputs": [],
   "source": [
    "# Series temporales: ONI, SOI, NINO3.4\n",
    "plt.figure(figsize=(12,4))\n",
    "plt.plot(df.index, df['ONI'], label='ONI')\n",
    "plt.plot(df.index, df['NINO34'], label='NINO3.4')\n",
    "plt.ylabel('Anomalía (°C o unidades índice)')\n",
    "plt.legend()\n",
    "plt.title('Series de ejemplo: ONI y Niño 3.4')\n",
    "plt.tight_layout()\n",
    "plt.show()\n",
    "\n",
    "plt.figure(figsize=(12,3))\n",
    "plt.plot(df.index, df['SOI'], color='C3', label='SOI')\n",
    "plt.title('SOI (ejemplo)')\n",
    "plt.ylabel('SOI (unidades)')\n",
    "plt.tight_layout()\n",
    "plt.show()\n"
   ]
  },
  {
   "cell_type": "code",
   "execution_count": null,
   "id": "02313c09",
   "metadata": {},
   "outputs": [],
   "source": [
    "# Función de correlación cruzada normalizada con lags\n",
    "def cross_correlation(x, y, maxlag=24):\n",
    "    x = np.array(x) - np.nanmean(x)\n",
    "    y = np.array(y) - np.nanmean(y)\n",
    "    x = x / np.nanstd(x)\n",
    "    y = y / np.nanstd(y)\n",
    "    n = len(x)\n",
    "    lags = np.arange(-maxlag, maxlag+1)\n",
    "    cc = []\n",
    "    for lag in lags:\n",
    "        if lag < 0:\n",
    "            cc.append(np.corrcoef(x[:lag], y[-lag:])[0,1])\n",
    "        elif lag > 0:\n",
    "            cc.append(np.corrcoef(x[lag:], y[:-lag])[0,1])\n",
    "        else:\n",
    "            cc.append(np.corrcoef(x, y)[0,1])\n",
    "    return lags, np.array(cc)\n",
    "\n",
    "# calcular cross-correlation entre ONI y SOI\n",
    "lags, cc_oni_soi = cross_correlation(df['ONI'].values, df['SOI'].values, maxlag=24)\n",
    "\n",
    "# plot\n",
    "plt.figure(figsize=(10,4))\n",
    "plt.stem(lags, cc_oni_soi, use_line_collection=True)\n",
    "plt.xlabel('Lag (months), negative -> SOI leads ONI')\n",
    "plt.ylabel('Correlation')\n",
    "plt.title('Correlación cruzada ONI vs SOI (ejemplo)')\n",
    "plt.axhline(0, color='k', linewidth=0.5)\n",
    "plt.tight_layout()\n",
    "plt.show()\n"
   ]
  },
  {
   "cell_type": "code",
   "execution_count": null,
   "id": "5e06edc3",
   "metadata": {},
   "outputs": [],
   "source": [
    "# Estimación simple de significancia usando N_eff por autocorrelación lag-1\n",
    "def effective_sample_size(x):\n",
    "    x = np.asarray(x)\n",
    "    x = x[~np.isnan(x)]\n",
    "    n = len(x)\n",
    "    if n < 3:\n",
    "        return n\n",
    "    rho1 = np.corrcoef(x[:-1], x[1:])[0,1]\n",
    "    n_eff = n * (1 - rho1) / (1 + rho1)\n",
    "    return max(1, n_eff)\n",
    "\n",
    "n_eff = effective_sample_size(df['ONI'].values)\n",
    "print(f\"Effective sample size (ONI example): {n_eff:.1f}\")\n",
    "\n",
    "# Critical correlation for alpha=0.05 (two-sided)\n",
    "alpha = 0.05\n",
    "crit = stats.t.ppf(1-alpha/2, df=n_eff-2)\n",
    "# convert t to r: r = t/sqrt(t^2 + df)\n",
    "r_crit = crit / np.sqrt(crit**2 + (n_eff - 2))\n",
    "print(f\"Critical r (alpha=0.05) approx: {r_crit:.3f}\")\n"
   ]
  },
  {
   "cell_type": "code",
   "execution_count": null,
   "id": "e6b124e8",
   "metadata": {},
   "outputs": [],
   "source": [
    "# Plot with significance threshold\n",
    "plt.figure(figsize=(10,4))\n",
    "plt.stem(lags, cc_oni_soi, use_line_collection=True)\n",
    "plt.hlines(y=r_crit, xmin=lags.min(), xmax=lags.max(), linestyles='dashed', label='crit (+/-)')\n",
    "plt.hlines(y=-r_crit, xmin=lags.min(), xmax=lags.max(), linestyles='dashed')\n",
    "plt.xlabel('Lag (months)')\n",
    "plt.ylabel('Correlation')\n",
    "plt.title('Cross-correlation ONI vs SOI (con umbral de significancia)')\n",
    "plt.legend()\n",
    "plt.tight_layout()\n",
    "plt.show()\n"
   ]
  },
  {
   "cell_type": "markdown",
   "id": "50ff70c6",
   "metadata": {},
   "source": [
    "## Guía de interpretación\n",
    "\n",
    "- Valores de correlación cercanos a 1 o -1 indican fuerte relación lineal.\n",
    "- El signo indica fase (positiva -> mismas fases; negativa -> fases opuestas).\n",
    "- Lags positivos indican que la primera serie **(ONI)** lidera a la segunda.\n",
    "- Evaluar significancia usando N_eff para evitar el efecto de la autocorrelación.\n",
    "- Actividad adicional: calcular correlaciones móviles (ventana de 5-10 años) para estudiar estabilidad temporal de la relación.\n"
   ]
  }
 ],
 "metadata": {},
 "nbformat": 4,
 "nbformat_minor": 5
}
