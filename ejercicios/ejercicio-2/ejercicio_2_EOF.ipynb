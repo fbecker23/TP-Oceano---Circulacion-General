{
 "cells": [
  {
   "cell_type": "markdown",
   "id": "8dac103b",
   "metadata": {},
   "source": [
    "# Ejercicio 2 — EOF de SST en el Pacífico Ecuatorial\n",
    "\n",
    "Notebook con ejemplo sintético (ejemplo_SST_EOF)."
   ]
  },
  {
   "cell_type": "code",
   "execution_count": null,
   "id": "6eb5193e",
   "metadata": {},
   "outputs": [],
   "source": [
    "import xarray as xr\n",
    "import numpy as np\n",
    "import matplotlib.pyplot as plt\n",
    "from sklearn.decomposition import PCA\n",
    "from scipy import signal\n",
    "\n",
    "ds = xr.open_dataset('../ejercicio-2/ejemplo_SST_EOF.nc')\n",
    "print(ds)"
   ]
  },
  {
   "cell_type": "code",
   "execution_count": null,
   "id": "92a7d3e3",
   "metadata": {},
   "outputs": [],
   "source": [
    "# Calcular climatología mensual y anomalías\n",
    "sst = ds['sst']\n",
    "clim = sst.groupby('time.month').mean(dim='time')\n",
    "anom = sst.groupby('time.month') - clim\n",
    "ntime = anom.sizes['time']\n",
    "ndata = anom.values.reshape(ntime, -1)\n",
    "# simple PCA\n",
    "from sklearn.decomposition import PCA\n",
    "pca = PCA(n_components=3)\n",
    "pcs = pca.fit_transform(ndata)\n",
    "print('Var explained:', pca.explained_variance_ratio_)"
   ]
  },
  {
   "cell_type": "code",
   "execution_count": null,
   "id": "8a43cc42",
   "metadata": {},
   "outputs": [],
   "source": [
    "# Gráficos de ejemplo (EOF1 y PC1)\n",
    "import matplotlib.pyplot as plt\n",
    "plt.figure(); plt.plot(ds['time'].values, pcs[:,0]); plt.title('PC1')\n",
    "plt.show()"
   ]
  }
 ],
 "metadata": {},
 "nbformat": 4,
 "nbformat_minor": 5
}
