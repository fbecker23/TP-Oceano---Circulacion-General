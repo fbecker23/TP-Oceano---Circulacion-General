{
 "cells": [
  {
   "cell_type": "markdown",
   "id": "5c38eb0c",
   "metadata": {},
   "source": [
    "# Ejercicio 3 — Estructura subsuperficial y geopotencial\n",
    "\n",
    "Notebook con ejemplos sintéticos para Z20 y geopotencial."
   ]
  },
  {
   "cell_type": "code",
   "execution_count": null,
   "id": "fff1f6bb",
   "metadata": {},
   "outputs": [],
   "source": [
    "import numpy as np\n",
    "import matplotlib.pyplot as plt\n",
    "data = np.load('../ejercicio-3/ejemplo_GLORYS_temp.npz')\n",
    "print(data.files)"
   ]
  },
  {
   "cell_type": "code",
   "execution_count": null,
   "id": "4eb4b9e4",
   "metadata": {},
   "outputs": [],
   "source": [
    "data_gp = np.load('../ejercicio-3/ejemplo_geopotencial_500.npz')\n",
    "print(data_gp.files)"
   ]
  },
  {
   "cell_type": "markdown",
   "id": "2c5d7339",
   "metadata": {},
   "source": [
    "## Instrucciones: reemplazar archivos .npz por los netCDF reales (GLORYS / ERA5) cuando se ejecute en Colab."
   ]
  }
 ],
 "metadata": {},
 "nbformat": 4,
 "nbformat_minor": 5
}
